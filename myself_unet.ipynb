{
  "nbformat": 4,
  "nbformat_minor": 0,
  "metadata": {
    "colab": {
      "name": "myself unet.ipynb",
      "provenance": [],
      "collapsed_sections": [],
      "mount_file_id": "15hbajm1k0uyZBsynrKY_5YJydmXWxrdm",
      "authorship_tag": "ABX9TyMX+DGZI+9xgpd66K98fli4",
      "include_colab_link": true
    },
    "kernelspec": {
      "name": "python3",
      "display_name": "Python 3"
    }
  },
  "cells": [
    {
      "cell_type": "markdown",
      "metadata": {
        "id": "view-in-github",
        "colab_type": "text"
      },
      "source": [
        "<a href=\"https://colab.research.google.com/github/jerrymaxxy/data-mining-unet/blob/master/myself_unet.ipynb\" target=\"_parent\"><img src=\"https://colab.research.google.com/assets/colab-badge.svg\" alt=\"Open In Colab\"/></a>"
      ]
    },
    {
      "cell_type": "markdown",
      "metadata": {
        "id": "Lx5haoGkznYy",
        "colab_type": "text"
      },
      "source": [
        "# Data Loader\n",
        "\n",
        "\n"
      ]
    },
    {
      "cell_type": "code",
      "metadata": {
        "id": "qssTiXMRUJrw",
        "colab_type": "code",
        "colab": {}
      },
      "source": [
        ""
      ],
      "execution_count": 0,
      "outputs": []
    },
    {
      "cell_type": "code",
      "metadata": {
        "id": "szTKaIhzR5vR",
        "colab_type": "code",
        "outputId": "5154195d-6ea2-4cde-d12d-0839f657f4ad",
        "colab": {
          "base_uri": "https://localhost:8080/",
          "height": 215
        }
      },
      "source": [
        "\n",
        "!wget http://host.robots.ox.ac.uk/pascal/VOC/voc2012/VOCtrainval_11-May-2012.tar\n",
        "\n",
        "!tar -xf VOCtrainval_11-May-2012.tar\n",
        "\n"
      ],
      "execution_count": 0,
      "outputs": [
        {
          "output_type": "stream",
          "text": [
            "--2020-04-28 15:42:40--  http://host.robots.ox.ac.uk/pascal/VOC/voc2012/VOCtrainval_11-May-2012.tar\n",
            "Resolving host.robots.ox.ac.uk (host.robots.ox.ac.uk)... 129.67.94.152\n",
            "Connecting to host.robots.ox.ac.uk (host.robots.ox.ac.uk)|129.67.94.152|:80... connected.\n",
            "HTTP request sent, awaiting response... 200 OK\n",
            "Length: 1999639040 (1.9G) [application/x-tar]\n",
            "Saving to: ‘VOCtrainval_11-May-2012.tar’\n",
            "\n",
            "VOCtrainval_11-May- 100%[===================>]   1.86G  5.19MB/s    in 6m 16s  \n",
            "\n",
            "2020-04-28 15:49:03 (5.08 MB/s) - ‘VOCtrainval_11-May-2012.tar’ saved [1999639040/1999639040]\n",
            "\n"
          ],
          "name": "stdout"
        }
      ]
    },
    {
      "cell_type": "code",
      "metadata": {
        "id": "NZvaNRpgQRYA",
        "colab_type": "code",
        "colab": {}
      },
      "source": [
        "%tensorflow_version 1.x"
      ],
      "execution_count": 0,
      "outputs": []
    },
    {
      "cell_type": "code",
      "metadata": {
        "id": "Rsn3VgwUTwkC",
        "colab_type": "code",
        "colab": {}
      },
      "source": [
        "import os\n",
        "import sys\n",
        "import random\n",
        "import warnings\n",
        "\n",
        "import numpy as np\n",
        "import pandas as pd\n",
        "\n",
        "import matplotlib.pyplot as plt\n",
        "\n",
        "from tqdm import tqdm\n",
        "from itertools import chain\n",
        "from skimage.io import imread, imshow, imread_collection, concatenate_images\n",
        "from skimage.transform import resize\n",
        "from skimage.morphology import label\n",
        "\n",
        "from keras.models import Model, load_model\n",
        "from keras.layers import Input\n",
        "from keras.layers.core import Dropout, Lambda\n",
        "from keras.layers.convolutional import Conv2D, Conv2DTranspose\n",
        "from keras.layers.pooling import MaxPooling2D\n",
        "from keras.layers.merge import concatenate\n",
        "from keras.callbacks import EarlyStopping, ModelCheckpoint\n",
        "from keras import backend as K\n",
        "import tensorflow as tf\n",
        "from datetime import datetime, timedelta\n",
        "from keras.optimizers import *\n",
        "# Set some parameters\n",
        "IMG_WIDTH = 512\n",
        "IMG_HEIGHT = 512\n",
        "IMG_CHANNELS = 3\n",
        "\n",
        "warnings.filterwarnings('ignore', category=UserWarning, module='skimage')\n",
        "seed = 42\n",
        "random.seed = seed\n",
        "np.random.seed = seed\n",
        "X_PATH = \"./content/VOCdevkit/VOC2012/JPEGImages/\"\n",
        "Y_PATH = \"./content/VOCdevkit/VOC2012/SegmentationClass/\"\n",
        "\n",
        "def get_time():\n",
        "  d = datetime.today() - timedelta(hours=5)\n",
        "  return(d.strftime('%Y-%m-%d %H:%M %p'))\n"
      ],
      "execution_count": 0,
      "outputs": []
    },
    {
      "cell_type": "code",
      "metadata": {
        "id": "WdIhchxMTsez",
        "colab_type": "code",
        "outputId": "0ece33be-60ea-42ad-ec7f-a9f77fce0943",
        "colab": {
          "base_uri": "https://localhost:8080/",
          "height": 53
        }
      },
      "source": [
        "name_list_train = open('./train_list/train.txt','r')\n",
        "lines_train = name_list_train.readlines()\n",
        "X_train = np.zeros((len(lines_train), IMG_HEIGHT, IMG_WIDTH, IMG_CHANNELS), dtype=np.uint8)\n",
        "Y_train = np.zeros((len(lines_train), IMG_HEIGHT, IMG_WIDTH, 1), dtype=np.bool)\n",
        "print('Getting and resizing train images and masks ... ')\n",
        "sys.stdout.flush()\n",
        "for n in range(len(lines_train)):\n",
        "      file_path = X_PATH + str(lines_train[n][0:-1])+ \".jpg\"\n",
        "      img_x = imread(file_path)[:,:,:IMG_CHANNELS]\n",
        "      img_x = resize(img_x, (IMG_HEIGHT, IMG_WIDTH), mode='constant', preserve_range=True)\n",
        "      X_train[n] = img_x\n",
        "      file_path = Y_PATH + str(lines_train[n][0:-1])+ \".png\"\n",
        "      img_y = imread(file_path)[:,:,:1]\n",
        "      img_y = resize(img_y, (IMG_HEIGHT, 1), mode='constant', preserve_range=True)\n",
        "    \n",
        "      Y_train[n] = img_y\n",
        "print(get_time())\n"
      ],
      "execution_count": 0,
      "outputs": [
        {
          "output_type": "stream",
          "text": [
            "Getting and resizing train images and masks ... \n",
            "2020-04-28 11:52 AM\n"
          ],
          "name": "stdout"
        }
      ]
    },
    {
      "cell_type": "code",
      "metadata": {
        "id": "quOK6qR776PP",
        "colab_type": "code",
        "outputId": "15c715ea-5862-40d9-9c49-e8e5208162f0",
        "colab": {
          "base_uri": "https://localhost:8080/",
          "height": 71
        }
      },
      "source": [
        "name_list_test = open('./train_list/val.txt','r')\n",
        "lines_test = name_list_test.readlines()\n",
        "X_test = np.zeros((len(lines_test), IMG_HEIGHT, IMG_WIDTH, IMG_CHANNELS), dtype=np.uint8)\n",
        "Y_test = np.zeros((len(lines_test), IMG_HEIGHT, IMG_WIDTH, 1), dtype=np.bool)\n",
        "print('Getting and resizing train images and masks ... ')\n",
        "sys.stdout.flush()\n",
        "for n in range(len(lines_test)):\n",
        "      file_path = X_PATH + str(lines_test[n][0:-1])+ \".jpg\"\n",
        "      img_x = imread(file_path)[:,:,:IMG_CHANNELS]\n",
        "      img_x = resize(img_x, (IMG_HEIGHT, IMG_WIDTH), mode='constant', preserve_range=True)\n",
        "      X_test[n] = img_x\n",
        "      file_path = Y_PATH + str(lines_test[n][0:-1])+ \".png\"\n",
        "      img_y = imread(file_path)[:,:,:1]\n",
        "      img_y = resize(img_y, (IMG_HEIGHT, IMG_WIDTH), mode='constant', preserve_range=True)\n",
        "      Y_test[n] = img_y\n",
        "print(\"done\")\n",
        "print(get_time())\n"
      ],
      "execution_count": 0,
      "outputs": [
        {
          "output_type": "stream",
          "text": [
            "Getting and resizing train images and masks ... \n",
            "done\n",
            "2020-04-28 10:53 AM\n"
          ],
          "name": "stdout"
        }
      ]
    },
    {
      "cell_type": "markdown",
      "metadata": {
        "id": "eVEu1biz0HMf",
        "colab_type": "text"
      },
      "source": [
        "# UNET Model"
      ]
    },
    {
      "cell_type": "code",
      "metadata": {
        "id": "674S4DsWZaGG",
        "colab_type": "code",
        "outputId": "2f04e50f-988e-4020-f1c4-d9cb46699500",
        "colab": {
          "base_uri": "https://localhost:8080/",
          "height": 35
        }
      },
      "source": [
        "from keras import optimizers\n",
        "# Build U-Net model\n",
        "def unet(learning_rate,optimizer):\n",
        "  inputs = Input((IMG_HEIGHT, IMG_WIDTH, IMG_CHANNELS))\n",
        "  s = Lambda(lambda x: x / (IMG_HEIGHT-1)) (inputs)\n",
        "\n",
        "  c1 = Conv2D(16, (3, 3), activation='elu', kernel_initializer='he_normal', padding='same') (s)\n",
        "  c1 = Dropout(0.1) (c1)\n",
        "  c1 = Conv2D(16, (3, 3), activation='elu', kernel_initializer='he_normal', padding='same') (c1)\n",
        "  p1 = MaxPooling2D((2, 2)) (c1)\n",
        "\n",
        "  c2 = Conv2D(32, (3, 3), activation='elu', kernel_initializer='he_normal', padding='same') (p1)\n",
        "  c2 = Dropout(0.1) (c2)\n",
        "  c2 = Conv2D(32, (3, 3), activation='elu', kernel_initializer='he_normal', padding='same') (c2)\n",
        "  p2 = MaxPooling2D((2, 2)) (c2)\n",
        "\n",
        "  c3 = Conv2D(64, (3, 3), activation='elu', kernel_initializer='he_normal', padding='same') (p2)\n",
        "  c3 = Dropout(0.2) (c3)\n",
        "  c3 = Conv2D(64, (3, 3), activation='elu', kernel_initializer='he_normal', padding='same') (c3)\n",
        "  p3 = MaxPooling2D((2, 2)) (c3)\n",
        "\n",
        "  c4 = Conv2D(128, (3, 3), activation='elu', kernel_initializer='he_normal', padding='same') (p3)\n",
        "  c4 = Dropout(0.2) (c4)\n",
        "  c4 = Conv2D(128, (3, 3), activation='elu', kernel_initializer='he_normal', padding='same') (c4)\n",
        "  p4 = MaxPooling2D(pool_size=(2, 2)) (c4)\n",
        "\n",
        "  c5 = Conv2D(256, (3, 3), activation='elu', kernel_initializer='he_normal', padding='same') (p4)\n",
        "  c5 = Dropout(0.3) (c5)\n",
        "  c5 = Conv2D(256, (3, 3), activation='elu', kernel_initializer='he_normal', padding='same') (c5)\n",
        "\n",
        "  u6 = Conv2DTranspose(128, (2, 2), strides=(2, 2), padding='same') (c5)\n",
        "  u6 = concatenate([u6, c4])\n",
        "  c6 = Conv2D(128, (3, 3), activation='elu', kernel_initializer='he_normal', padding='same') (u6)\n",
        "  c6 = Dropout(0.2) (c6)\n",
        "  c6 = Conv2D(128, (3, 3), activation='elu', kernel_initializer='he_normal', padding='same') (c6)\n",
        "\n",
        "  u7 = Conv2DTranspose(64, (2, 2), strides=(2, 2), padding='same') (c6)\n",
        "  u7 = concatenate([u7, c3])\n",
        "  c7 = Conv2D(64, (3, 3), activation='elu', kernel_initializer='he_normal', padding='same') (u7)\n",
        "  c7 = Dropout(0.2) (c7)\n",
        "  c7 = Conv2D(64, (3, 3), activation='elu', kernel_initializer='he_normal', padding='same') (c7)\n",
        "\n",
        "  u8 = Conv2DTranspose(32, (2, 2), strides=(2, 2), padding='same') (c7)\n",
        "  u8 = concatenate([u8, c2])\n",
        "  c8 = Conv2D(32, (3, 3), activation='elu', kernel_initializer='he_normal', padding='same') (u8)\n",
        "  c8 = Dropout(0.1) (c8)\n",
        "  c8 = Conv2D(32, (3, 3), activation='elu', kernel_initializer='he_normal', padding='same') (c8)\n",
        "\n",
        "  u9 = Conv2DTranspose(16, (2, 2), strides=(2, 2), padding='same') (c8)\n",
        "  u9 = concatenate([u9, c1], axis=3)\n",
        "  c9 = Conv2D(16, (3, 3), activation='elu', kernel_initializer='he_normal', padding='same') (u9)\n",
        "  c9 = Dropout(0.1) (c9)\n",
        "  c9 = Conv2D(16, (3, 3), activation='elu', kernel_initializer='he_normal', padding='same') (c9)\n",
        "\n",
        "  outputs = Conv2D(1, (1, 1), activation='sigmoid') (c9)\n",
        "\n",
        "  model = Model(inputs=[inputs], outputs=[outputs])\n",
        "  optimizerss = optimizer(lr=learning_rate)\n",
        "  model.compile(loss='binary_crossentropy', optimizer=optimizerss, metrics=['accuracy'])\n",
        "  return model\n",
        "\n",
        "\n",
        "\n",
        "print(get_time())\n"
      ],
      "execution_count": 0,
      "outputs": [
        {
          "output_type": "stream",
          "text": [
            "2020-04-28 10:53 AM\n"
          ],
          "name": "stdout"
        }
      ]
    },
    {
      "cell_type": "code",
      "metadata": {
        "id": "kvJE4E09TLnM",
        "colab_type": "code",
        "colab": {}
      },
      "source": [
        "def fit_model(epochs, batch_size):\n",
        "  earlystopper = EarlyStopping(patience=5, verbose=1)\n",
        "  checkpointer = ModelCheckpoint('model-dsbowl2018-1.h5', verbose=1, save_best_only=True)\n",
        "  results = model.fit(X_train, Y_train, validation_split=0.1, batch_size=batch_size, epochs=epochs, \n",
        "                callbacks=[earlystopper, checkpointer])\n",
        "  return(results)\n",
        "  "
      ],
      "execution_count": 0,
      "outputs": []
    },
    {
      "cell_type": "code",
      "metadata": {
        "id": "WJXaCQP4gdkC",
        "colab_type": "code",
        "outputId": "1b8acea0-0c9c-4570-edc5-52c1d94be014",
        "colab": {
          "base_uri": "https://localhost:8080/",
          "height": 829
        }
      },
      "source": [
        "epochs = 10\n",
        "def fit_model(epochs, batch_size):\n",
        "  earlystopper = EarlyStopping(patience=5, verbose=1)\n",
        "  checkpointer = ModelCheckpoint('model-dsbowl2018-1.h5', verbose=1, save_best_only=True)\n",
        "  results = model.fit(X_train, Y_train, validation_split=0.1, batch_size=batch_size, epochs=epochs, \n",
        "                callbacks=[earlystopper, checkpointer])\n",
        "  return(results)\n",
        "start = datetime.now()\n",
        "  \n",
        "model = unet(1e-3,Adam)\n",
        "results = fit_model(epochs,50)\n",
        "\n",
        "\n",
        "\n",
        "end = datetime.now()\n",
        "time = end-start\n"
      ],
      "execution_count": 0,
      "outputs": [
        {
          "output_type": "stream",
          "text": [
            "WARNING:tensorflow:From /tensorflow-1.15.2/python3.6/tensorflow_core/python/ops/resource_variable_ops.py:1630: calling BaseResourceVariable.__init__ (from tensorflow.python.ops.resource_variable_ops) with constraint is deprecated and will be removed in a future version.\n",
            "Instructions for updating:\n",
            "If using Keras pass *_constraint arguments to layers.\n",
            "WARNING:tensorflow:From /usr/local/lib/python3.6/dist-packages/keras/backend/tensorflow_backend.py:4070: The name tf.nn.max_pool is deprecated. Please use tf.nn.max_pool2d instead.\n",
            "\n",
            "WARNING:tensorflow:From /tensorflow-1.15.2/python3.6/tensorflow_core/python/ops/nn_impl.py:183: where (from tensorflow.python.ops.array_ops) is deprecated and will be removed in a future version.\n",
            "Instructions for updating:\n",
            "Use tf.where in 2.0, which has the same broadcast rule as np.where\n",
            "WARNING:tensorflow:From /usr/local/lib/python3.6/dist-packages/keras/backend/tensorflow_backend.py:422: The name tf.global_variables is deprecated. Please use tf.compat.v1.global_variables instead.\n",
            "\n",
            "Train on 387 samples, validate on 44 samples\n",
            "Epoch 1/10\n",
            "387/387 [==============================] - 72s 185ms/step - loss: 0.7548 - accuracy: 0.6218 - val_loss: 0.5774 - val_accuracy: 0.7301\n",
            "\n",
            "Epoch 00001: val_loss improved from inf to 0.57737, saving model to model-dsbowl2018-1.h5\n",
            "Epoch 2/10\n",
            "387/387 [==============================] - 70s 181ms/step - loss: 0.6193 - accuracy: 0.6784 - val_loss: 0.5787 - val_accuracy: 0.7342\n",
            "\n",
            "Epoch 00002: val_loss did not improve from 0.57737\n",
            "Epoch 3/10\n",
            "387/387 [==============================] - 69s 179ms/step - loss: 0.5715 - accuracy: 0.7074 - val_loss: 0.5350 - val_accuracy: 0.7265\n",
            "\n",
            "Epoch 00003: val_loss improved from 0.57737 to 0.53503, saving model to model-dsbowl2018-1.h5\n",
            "Epoch 4/10\n",
            "387/387 [==============================] - 70s 180ms/step - loss: 0.5690 - accuracy: 0.7126 - val_loss: 0.5457 - val_accuracy: 0.7077\n",
            "\n",
            "Epoch 00004: val_loss did not improve from 0.53503\n",
            "Epoch 5/10\n",
            "387/387 [==============================] - 70s 180ms/step - loss: 0.5372 - accuracy: 0.7322 - val_loss: 0.5611 - val_accuracy: 0.6756\n",
            "\n",
            "Epoch 00005: val_loss did not improve from 0.53503\n",
            "Epoch 6/10\n",
            "387/387 [==============================] - 69s 179ms/step - loss: 0.5244 - accuracy: 0.7370 - val_loss: 0.7579 - val_accuracy: 0.4011\n",
            "\n",
            "Epoch 00006: val_loss did not improve from 0.53503\n",
            "Epoch 7/10\n",
            "387/387 [==============================] - 69s 179ms/step - loss: 0.5203 - accuracy: 0.7418 - val_loss: 0.5707 - val_accuracy: 0.6886\n",
            "\n",
            "Epoch 00007: val_loss did not improve from 0.53503\n",
            "Epoch 8/10\n",
            "387/387 [==============================] - 69s 179ms/step - loss: 0.5212 - accuracy: 0.7384 - val_loss: 0.5535 - val_accuracy: 0.6881\n",
            "\n",
            "Epoch 00008: val_loss did not improve from 0.53503\n",
            "Epoch 00008: early stopping\n"
          ],
          "name": "stdout"
        }
      ]
    },
    {
      "cell_type": "code",
      "metadata": {
        "id": "SbbZQTycfv6a",
        "colab_type": "code",
        "colab": {}
      },
      "source": [
        "def get_performance():\n",
        "  print(\"Time: \" + str(time))\n",
        "  print(\"number of parameters: \" + str(model.count_params()))\n",
        "  print(\"Accuracy: \" + str(results.history['accuracy'][-1]))\n",
        "  plt.plot(np.arange(len(results.epoch)),results.history['accuracy'])\n",
        "  plt.ylabel('Accuracy')\n",
        "  plt.xlabel('Epochs')\n",
        "\n"
      ],
      "execution_count": 0,
      "outputs": []
    },
    {
      "cell_type": "code",
      "metadata": {
        "id": "RObGaMgVfwg9",
        "colab_type": "code",
        "outputId": "5865c2da-ef32-4d17-bd91-2411ebc24ab6",
        "colab": {
          "base_uri": "https://localhost:8080/",
          "height": 333
        }
      },
      "source": [
        "get_performance()"
      ],
      "execution_count": 0,
      "outputs": [
        {
          "output_type": "stream",
          "text": [
            "Time: 0:09:23.836483\n",
            "number of parameters: 1941105\n",
            "Accuracy: 0.7383767\n"
          ],
          "name": "stdout"
        },
        {
          "output_type": "display_data",
          "data": {
            "image/png": "[encoded data removed]",
            "text/plain": [
              "<Figure size 432x288 with 1 Axes>"
            ]
          },
          "metadata": {
            "tags": [],
            "needs_background": "light"
          }
        }
      ]
    },
    {
      "cell_type": "markdown",
      "metadata": {
        "id": "i92-Pl9p0MQ0",
        "colab_type": "text"
      },
      "source": [
        "# Model Fitting"
      ]
    },
    {
      "cell_type": "markdown",
      "metadata": {
        "id": "fI8Y40yE0Tbo",
        "colab_type": "text"
      },
      "source": [
        "Fit the model on learning rate from 1e-3 to 1e-5, and optimizers:  \n",
        "Store their running time, number of parameters and accuracy in dataframe df\n",
        "Store the accuracy of each epoch in accuracy_df"
      ]
    },
    {
      "cell_type": "code",
      "metadata": {
        "id": "pAHEGMxPlqkF",
        "colab_type": "code",
        "outputId": "98d08410-77d5-4c30-bc95-3413c5a5d0ab",
        "colab": {
          "base_uri": "https://localhost:8080/",
          "height": 1000
        }
      },
      "source": [
        "epochs = 10\n",
        "lr_list = [1e-3, 1e-4, 1e-5]\n",
        "optimizer_list = ['SGD','Adam','Adamax']\n",
        "df = pd.DataFrame(np.zeros((3, 9)))\n",
        "accuracy_df = pd.DataFrame(np.zeros((epochs, 9)))\n",
        "df.index = ['Time','Num of Paras','Accuracy']\n",
        "colname_list = [str(i) + \" lr = \" + str(j) for i in optimizer_list for j in lr_list]\n",
        "df.columns= colname_list\n",
        "accuracy_df.columns= colname_list\n",
        "i = 0\n",
        "\n",
        "for opt in optimizer_list: \n",
        "  for lr in lr_list:\n",
        "      print(str(opt) + \" lr=\" +str(lr))\n",
        "\n",
        "      model = unet(lr,eval(opt))\n",
        "      start = datetime.now()\n",
        "      \n",
        "      results = fit_model(epochs,50)\n",
        "      end = datetime.now()\n",
        "      time = end-start\n",
        "      df.iloc[0,i] = time\n",
        "      df.iloc[1,i] = model.count_params()\n",
        "      df.iloc[2,i] = results.history['accuracy'][-1]\n",
        "      results.history['accuracy']\n",
        "      accuracy_df.iloc[:,i] = results.history['accuracy']\n",
        "\n",
        "      i += 1\n",
        "\n",
        "print(get_time())\n"
      ],
      "execution_count": 0,
      "outputs": [
        {
          "output_type": "stream",
          "text": [
            "SGD lr=0.001\n",
            "WARNING:tensorflow:From /tensorflow-1.15.2/python3.6/tensorflow_core/python/ops/resource_variable_ops.py:1630: calling BaseResourceVariable.__init__ (from tensorflow.python.ops.resource_variable_ops) with constraint is deprecated and will be removed in a future version.\n",
            "Instructions for updating:\n",
            "If using Keras pass *_constraint arguments to layers.\n",
            "WARNING:tensorflow:From /usr/local/lib/python3.6/dist-packages/keras/backend/tensorflow_backend.py:4070: The name tf.nn.max_pool is deprecated. Please use tf.nn.max_pool2d instead.\n",
            "\n",
            "WARNING:tensorflow:From /tensorflow-1.15.2/python3.6/tensorflow_core/python/ops/nn_impl.py:183: where (from tensorflow.python.ops.array_ops) is deprecated and will be removed in a future version.\n",
            "Instructions for updating:\n",
            "Use tf.where in 2.0, which has the same broadcast rule as np.where\n",
            "WARNING:tensorflow:From /usr/local/lib/python3.6/dist-packages/keras/backend/tensorflow_backend.py:422: The name tf.global_variables is deprecated. Please use tf.compat.v1.global_variables instead.\n",
            "\n",
            "Train on 387 samples, validate on 44 samples\n",
            "Epoch 1/10\n",
            "387/387 [==============================] - 72s 186ms/step - loss: 0.7909 - accuracy: 0.5443 - val_loss: 0.7538 - val_accuracy: 0.5118\n",
            "\n",
            "Epoch 00001: val_loss improved from inf to 0.75381, saving model to model-dsbowl2018-1.h5\n",
            "Epoch 2/10\n",
            "387/387 [==============================] - 70s 180ms/step - loss: 0.7668 - accuracy: 0.5704 - val_loss: 0.7271 - val_accuracy: 0.5537\n",
            "\n",
            "Epoch 00002: val_loss improved from 0.75381 to 0.72712, saving model to model-dsbowl2018-1.h5\n",
            "Epoch 3/10\n",
            "387/387 [==============================] - 70s 180ms/step - loss: 0.7547 - accuracy: 0.5832 - val_loss: 0.7113 - val_accuracy: 0.5802\n",
            "\n",
            "Epoch 00003: val_loss improved from 0.72712 to 0.71134, saving model to model-dsbowl2018-1.h5\n",
            "Epoch 4/10\n",
            "387/387 [==============================] - 72s 187ms/step - loss: 0.7468 - accuracy: 0.5903 - val_loss: 0.7001 - val_accuracy: 0.5989\n",
            "\n",
            "Epoch 00004: val_loss improved from 0.71134 to 0.70012, saving model to model-dsbowl2018-1.h5\n",
            "Epoch 5/10\n",
            "387/387 [==============================] - 70s 180ms/step - loss: 0.7403 - accuracy: 0.5956 - val_loss: 0.6917 - val_accuracy: 0.6114\n",
            "\n",
            "Epoch 00005: val_loss improved from 0.70012 to 0.69169, saving model to model-dsbowl2018-1.h5\n",
            "Epoch 6/10\n",
            "387/387 [==============================] - 70s 180ms/step - loss: 0.7346 - accuracy: 0.6021 - val_loss: 0.6855 - val_accuracy: 0.6181\n",
            "\n",
            "Epoch 00006: val_loss improved from 0.69169 to 0.68550, saving model to model-dsbowl2018-1.h5\n",
            "Epoch 7/10\n",
            "387/387 [==============================] - 70s 181ms/step - loss: 0.7292 - accuracy: 0.6052 - val_loss: 0.6803 - val_accuracy: 0.6233\n",
            "\n",
            "Epoch 00007: val_loss improved from 0.68550 to 0.68027, saving model to model-dsbowl2018-1.h5\n",
            "Epoch 8/10\n",
            "387/387 [==============================] - 69s 180ms/step - loss: 0.7245 - accuracy: 0.6055 - val_loss: 0.6748 - val_accuracy: 0.6301\n",
            "\n",
            "Epoch 00008: val_loss improved from 0.68027 to 0.67483, saving model to model-dsbowl2018-1.h5\n",
            "Epoch 9/10\n",
            "387/387 [==============================] - 70s 180ms/step - loss: 0.7203 - accuracy: 0.6099 - val_loss: 0.6718 - val_accuracy: 0.6298\n",
            "\n",
            "Epoch 00009: val_loss improved from 0.67483 to 0.67177, saving model to model-dsbowl2018-1.h5\n",
            "Epoch 10/10\n",
            "387/387 [==============================] - 70s 180ms/step - loss: 0.7164 - accuracy: 0.6080 - val_loss: 0.6660 - val_accuracy: 0.6395\n",
            "\n",
            "Epoch 00010: val_loss improved from 0.67177 to 0.66601, saving model to model-dsbowl2018-1.h5\n",
            "SGD lr=0.0001\n",
            "Train on 387 samples, validate on 44 samples\n",
            "Epoch 1/10\n",
            "387/387 [==============================] - 71s 183ms/step - loss: 0.8608 - accuracy: 0.4610 - val_loss: 0.7780 - val_accuracy: 0.4308\n",
            "\n",
            "Epoch 00001: val_loss improved from inf to 0.77798, saving model to model-dsbowl2018-1.h5\n",
            "Epoch 2/10\n",
            "387/387 [==============================] - 70s 181ms/step - loss: 0.8534 - accuracy: 0.4653 - val_loss: 0.7699 - val_accuracy: 0.4391\n",
            "\n",
            "Epoch 00002: val_loss improved from 0.77798 to 0.76992, saving model to model-dsbowl2018-1.h5\n",
            "Epoch 3/10\n",
            "387/387 [==============================] - 70s 180ms/step - loss: 0.8463 - accuracy: 0.4695 - val_loss: 0.7622 - val_accuracy: 0.4479\n",
            "\n",
            "Epoch 00003: val_loss improved from 0.76992 to 0.76223, saving model to model-dsbowl2018-1.h5\n",
            "Epoch 4/10\n",
            "387/387 [==============================] - 70s 180ms/step - loss: 0.8394 - accuracy: 0.4736 - val_loss: 0.7551 - val_accuracy: 0.4565\n",
            "\n",
            "Epoch 00004: val_loss improved from 0.76223 to 0.75511, saving model to model-dsbowl2018-1.h5\n",
            "Epoch 5/10\n",
            "387/387 [==============================] - 70s 181ms/step - loss: 0.8333 - accuracy: 0.4774 - val_loss: 0.7484 - val_accuracy: 0.4649\n",
            "\n",
            "Epoch 00005: val_loss improved from 0.75511 to 0.74841, saving model to model-dsbowl2018-1.h5\n",
            "Epoch 6/10\n",
            "387/387 [==============================] - 70s 181ms/step - loss: 0.8274 - accuracy: 0.4812 - val_loss: 0.7422 - val_accuracy: 0.4731\n",
            "\n",
            "Epoch 00006: val_loss improved from 0.74841 to 0.74219, saving model to model-dsbowl2018-1.h5\n",
            "Epoch 7/10\n",
            "387/387 [==============================] - 70s 180ms/step - loss: 0.8218 - accuracy: 0.4852 - val_loss: 0.7363 - val_accuracy: 0.4813\n",
            "\n",
            "Epoch 00007: val_loss improved from 0.74219 to 0.73632, saving model to model-dsbowl2018-1.h5\n",
            "Epoch 8/10\n",
            "387/387 [==============================] - 69s 179ms/step - loss: 0.8165 - accuracy: 0.4892 - val_loss: 0.7308 - val_accuracy: 0.4891\n",
            "\n",
            "Epoch 00008: val_loss improved from 0.73632 to 0.73081, saving model to model-dsbowl2018-1.h5\n",
            "Epoch 9/10\n",
            "387/387 [==============================] - 70s 180ms/step - loss: 0.8114 - accuracy: 0.4929 - val_loss: 0.7258 - val_accuracy: 0.4969\n",
            "\n",
            "Epoch 00009: val_loss improved from 0.73081 to 0.72576, saving model to model-dsbowl2018-1.h5\n",
            "Epoch 10/10\n",
            "387/387 [==============================] - 70s 181ms/step - loss: 0.8068 - accuracy: 0.4963 - val_loss: 0.7210 - val_accuracy: 0.5044\n",
            "\n",
            "Epoch 00010: val_loss improved from 0.72576 to 0.72102, saving model to model-dsbowl2018-1.h5\n",
            "SGD lr=1e-05\n",
            "Train on 387 samples, validate on 44 samples\n",
            "Epoch 1/10\n",
            "387/387 [==============================] - 71s 184ms/step - loss: 1.3261 - accuracy: 0.4059 - val_loss: 1.1928 - val_accuracy: 0.3744\n",
            "\n",
            "Epoch 00001: val_loss improved from inf to 1.19280, saving model to model-dsbowl2018-1.h5\n",
            "Epoch 2/10\n",
            "387/387 [==============================] - 70s 180ms/step - loss: 1.3146 - accuracy: 0.4076 - val_loss: 1.1802 - val_accuracy: 0.3777\n",
            "\n",
            "Epoch 00002: val_loss improved from 1.19280 to 1.18019, saving model to model-dsbowl2018-1.h5\n",
            "Epoch 3/10\n",
            "387/387 [==============================] - 70s 180ms/step - loss: 1.3023 - accuracy: 0.4095 - val_loss: 1.1681 - val_accuracy: 0.3808\n",
            "\n",
            "Epoch 00003: val_loss improved from 1.18019 to 1.16806, saving model to model-dsbowl2018-1.h5\n",
            "Epoch 4/10\n",
            "387/387 [==============================] - 70s 181ms/step - loss: 1.2900 - accuracy: 0.4119 - val_loss: 1.1562 - val_accuracy: 0.3839\n",
            "\n",
            "Epoch 00004: val_loss improved from 1.16806 to 1.15621, saving model to model-dsbowl2018-1.h5\n",
            "Epoch 5/10\n",
            "387/387 [==============================] - 69s 179ms/step - loss: 1.2795 - accuracy: 0.4136 - val_loss: 1.1449 - val_accuracy: 0.3871\n",
            "\n",
            "Epoch 00005: val_loss improved from 1.15621 to 1.14486, saving model to model-dsbowl2018-1.h5\n",
            "Epoch 6/10\n",
            "387/387 [==============================] - 69s 179ms/step - loss: 1.2682 - accuracy: 0.4154 - val_loss: 1.1339 - val_accuracy: 0.3902\n",
            "\n",
            "Epoch 00006: val_loss improved from 1.14486 to 1.13388, saving model to model-dsbowl2018-1.h5\n",
            "Epoch 7/10\n",
            "387/387 [==============================] - 69s 179ms/step - loss: 1.2577 - accuracy: 0.4176 - val_loss: 1.1233 - val_accuracy: 0.3931\n",
            "\n",
            "Epoch 00007: val_loss improved from 1.13388 to 1.12327, saving model to model-dsbowl2018-1.h5\n",
            "Epoch 8/10\n",
            "387/387 [==============================] - 69s 179ms/step - loss: 1.2481 - accuracy: 0.4194 - val_loss: 1.1130 - val_accuracy: 0.3960\n",
            "\n",
            "Epoch 00008: val_loss improved from 1.12327 to 1.11303, saving model to model-dsbowl2018-1.h5\n",
            "Epoch 9/10\n",
            "387/387 [==============================] - 69s 179ms/step - loss: 1.2371 - accuracy: 0.4215 - val_loss: 1.1031 - val_accuracy: 0.3988\n",
            "\n",
            "Epoch 00009: val_loss improved from 1.11303 to 1.10315, saving model to model-dsbowl2018-1.h5\n",
            "Epoch 10/10\n",
            "387/387 [==============================] - 70s 182ms/step - loss: 1.2285 - accuracy: 0.4232 - val_loss: 1.0936 - val_accuracy: 0.4016\n",
            "\n",
            "Epoch 00010: val_loss improved from 1.10315 to 1.09363, saving model to model-dsbowl2018-1.h5\n",
            "Adam lr=0.001\n",
            "Train on 387 samples, validate on 44 samples\n",
            "Epoch 1/10\n",
            "387/387 [==============================] - 71s 183ms/step - loss: 0.6724 - accuracy: 0.6439 - val_loss: 0.6371 - val_accuracy: 0.6626\n",
            "\n",
            "Epoch 00001: val_loss improved from inf to 0.63711, saving model to model-dsbowl2018-1.h5\n",
            "Epoch 2/10\n",
            "387/387 [==============================] - 70s 180ms/step - loss: 0.6114 - accuracy: 0.6838 - val_loss: 0.5978 - val_accuracy: 0.7071\n",
            "\n",
            "Epoch 00002: val_loss improved from 0.63711 to 0.59782, saving model to model-dsbowl2018-1.h5\n",
            "Epoch 3/10\n",
            "387/387 [==============================] - 69s 180ms/step - loss: 0.5720 - accuracy: 0.7196 - val_loss: 0.6128 - val_accuracy: 0.6876\n",
            "\n",
            "Epoch 00003: val_loss did not improve from 0.59782\n",
            "Epoch 4/10\n",
            "387/387 [==============================] - 69s 179ms/step - loss: 0.5708 - accuracy: 0.7184 - val_loss: 0.5849 - val_accuracy: 0.7211\n",
            "\n",
            "Epoch 00004: val_loss improved from 0.59782 to 0.58491, saving model to model-dsbowl2018-1.h5\n",
            "Epoch 5/10\n",
            "387/387 [==============================] - 69s 179ms/step - loss: 0.5430 - accuracy: 0.7212 - val_loss: 0.6246 - val_accuracy: 0.6036\n",
            "\n",
            "Epoch 00005: val_loss did not improve from 0.58491\n",
            "Epoch 6/10\n",
            "387/387 [==============================] - 69s 180ms/step - loss: 0.5235 - accuracy: 0.7477 - val_loss: 0.6329 - val_accuracy: 0.6183\n",
            "\n",
            "Epoch 00006: val_loss did not improve from 0.58491\n",
            "Epoch 7/10\n",
            "387/387 [==============================] - 70s 180ms/step - loss: 0.5246 - accuracy: 0.7471 - val_loss: 0.5730 - val_accuracy: 0.6758\n",
            "\n",
            "Epoch 00007: val_loss improved from 0.58491 to 0.57299, saving model to model-dsbowl2018-1.h5\n",
            "Epoch 8/10\n",
            "387/387 [==============================] - 72s 186ms/step - loss: 0.5006 - accuracy: 0.7598 - val_loss: 0.6546 - val_accuracy: 0.5881\n",
            "\n",
            "Epoch 00008: val_loss did not improve from 0.57299\n",
            "Epoch 9/10\n",
            "387/387 [==============================] - 70s 180ms/step - loss: 0.4832 - accuracy: 0.7754 - val_loss: 0.6544 - val_accuracy: 0.6014\n",
            "\n",
            "Epoch 00009: val_loss did not improve from 0.57299\n",
            "Epoch 10/10\n",
            "387/387 [==============================] - 70s 181ms/step - loss: 0.4754 - accuracy: 0.7802 - val_loss: 0.5562 - val_accuracy: 0.7066\n",
            "\n",
            "Epoch 00010: val_loss improved from 0.57299 to 0.55621, saving model to model-dsbowl2018-1.h5\n",
            "Adam lr=0.0001\n",
            "Train on 387 samples, validate on 44 samples\n",
            "Epoch 1/10\n",
            "387/387 [==============================] - 72s 185ms/step - loss: 0.8007 - accuracy: 0.5631 - val_loss: 0.6411 - val_accuracy: 0.6848\n",
            "\n",
            "Epoch 00001: val_loss improved from inf to 0.64105, saving model to model-dsbowl2018-1.h5\n",
            "Epoch 2/10\n",
            "300/387 [======================>.......] - ETA: 15s - loss: 0.7174 - accuracy: 0.6248"
          ],
          "name": "stdout"
        },
        {
          "output_type": "error",
          "ename": "KeyboardInterrupt",
          "evalue": "ignored",
          "traceback": [
            "\u001b[0;31m---------------------------------------------------------------------------\u001b[0m",
            "\u001b[0;31mKeyboardInterrupt\u001b[0m                         Traceback (most recent call last)",
            "\u001b[0;32m<ipython-input-11-e099e2abba1a>\u001b[0m in \u001b[0;36m<module>\u001b[0;34m()\u001b[0m\n\u001b[1;32m     17\u001b[0m       \u001b[0mstart\u001b[0m \u001b[0;34m=\u001b[0m \u001b[0mdatetime\u001b[0m\u001b[0;34m.\u001b[0m\u001b[0mnow\u001b[0m\u001b[0;34m(\u001b[0m\u001b[0;34m)\u001b[0m\u001b[0;34m\u001b[0m\u001b[0;34m\u001b[0m\u001b[0m\n\u001b[1;32m     18\u001b[0m \u001b[0;34m\u001b[0m\u001b[0m\n\u001b[0;32m---> 19\u001b[0;31m       \u001b[0mresults\u001b[0m \u001b[0;34m=\u001b[0m \u001b[0mfit_model\u001b[0m\u001b[0;34m(\u001b[0m\u001b[0mepochs\u001b[0m\u001b[0;34m,\u001b[0m\u001b[0;36m50\u001b[0m\u001b[0;34m)\u001b[0m\u001b[0;34m\u001b[0m\u001b[0;34m\u001b[0m\u001b[0m\n\u001b[0m\u001b[1;32m     20\u001b[0m       \u001b[0mend\u001b[0m \u001b[0;34m=\u001b[0m \u001b[0mdatetime\u001b[0m\u001b[0;34m.\u001b[0m\u001b[0mnow\u001b[0m\u001b[0;34m(\u001b[0m\u001b[0;34m)\u001b[0m\u001b[0;34m\u001b[0m\u001b[0;34m\u001b[0m\u001b[0m\n\u001b[1;32m     21\u001b[0m       \u001b[0mtime\u001b[0m \u001b[0;34m=\u001b[0m \u001b[0mend\u001b[0m\u001b[0;34m-\u001b[0m\u001b[0mstart\u001b[0m\u001b[0;34m\u001b[0m\u001b[0;34m\u001b[0m\u001b[0m\n",
            "\u001b[0;32m<ipython-input-10-7e78e7ccbaf8>\u001b[0m in \u001b[0;36mfit_model\u001b[0;34m(epochs, batch_size)\u001b[0m\n\u001b[1;32m      3\u001b[0m   \u001b[0mcheckpointer\u001b[0m \u001b[0;34m=\u001b[0m \u001b[0mModelCheckpoint\u001b[0m\u001b[0;34m(\u001b[0m\u001b[0;34m'model-dsbowl2018-1.h5'\u001b[0m\u001b[0;34m,\u001b[0m \u001b[0mverbose\u001b[0m\u001b[0;34m=\u001b[0m\u001b[0;36m1\u001b[0m\u001b[0;34m,\u001b[0m \u001b[0msave_best_only\u001b[0m\u001b[0;34m=\u001b[0m\u001b[0;32mTrue\u001b[0m\u001b[0;34m)\u001b[0m\u001b[0;34m\u001b[0m\u001b[0;34m\u001b[0m\u001b[0m\n\u001b[1;32m      4\u001b[0m   results = model.fit(X_train, Y_train, validation_split=0.1, batch_size=batch_size, epochs=epochs, \n\u001b[0;32m----> 5\u001b[0;31m                 callbacks=[earlystopper, checkpointer])\n\u001b[0m\u001b[1;32m      6\u001b[0m   \u001b[0;32mreturn\u001b[0m\u001b[0;34m(\u001b[0m\u001b[0mresults\u001b[0m\u001b[0;34m)\u001b[0m\u001b[0;34m\u001b[0m\u001b[0;34m\u001b[0m\u001b[0m\n\u001b[1;32m      7\u001b[0m \u001b[0;34m\u001b[0m\u001b[0m\n",
            "\u001b[0;32m/usr/local/lib/python3.6/dist-packages/keras/engine/training.py\u001b[0m in \u001b[0;36mfit\u001b[0;34m(self, x, y, batch_size, epochs, verbose, callbacks, validation_split, validation_data, shuffle, class_weight, sample_weight, initial_epoch, steps_per_epoch, validation_steps, validation_freq, max_queue_size, workers, use_multiprocessing, **kwargs)\u001b[0m\n\u001b[1;32m   1237\u001b[0m                                         \u001b[0msteps_per_epoch\u001b[0m\u001b[0;34m=\u001b[0m\u001b[0msteps_per_epoch\u001b[0m\u001b[0;34m,\u001b[0m\u001b[0;34m\u001b[0m\u001b[0;34m\u001b[0m\u001b[0m\n\u001b[1;32m   1238\u001b[0m                                         \u001b[0mvalidation_steps\u001b[0m\u001b[0;34m=\u001b[0m\u001b[0mvalidation_steps\u001b[0m\u001b[0;34m,\u001b[0m\u001b[0;34m\u001b[0m\u001b[0;34m\u001b[0m\u001b[0m\n\u001b[0;32m-> 1239\u001b[0;31m                                         validation_freq=validation_freq)\n\u001b[0m\u001b[1;32m   1240\u001b[0m \u001b[0;34m\u001b[0m\u001b[0m\n\u001b[1;32m   1241\u001b[0m     def evaluate(self,\n",
            "\u001b[0;32m/usr/local/lib/python3.6/dist-packages/keras/engine/training_arrays.py\u001b[0m in \u001b[0;36mfit_loop\u001b[0;34m(model, fit_function, fit_inputs, out_labels, batch_size, epochs, verbose, callbacks, val_function, val_inputs, shuffle, initial_epoch, steps_per_epoch, validation_steps, validation_freq)\u001b[0m\n\u001b[1;32m    194\u001b[0m                     \u001b[0mins_batch\u001b[0m\u001b[0;34m[\u001b[0m\u001b[0mi\u001b[0m\u001b[0;34m]\u001b[0m \u001b[0;34m=\u001b[0m \u001b[0mins_batch\u001b[0m\u001b[0;34m[\u001b[0m\u001b[0mi\u001b[0m\u001b[0;34m]\u001b[0m\u001b[0;34m.\u001b[0m\u001b[0mtoarray\u001b[0m\u001b[0;34m(\u001b[0m\u001b[0;34m)\u001b[0m\u001b[0;34m\u001b[0m\u001b[0;34m\u001b[0m\u001b[0m\n\u001b[1;32m    195\u001b[0m \u001b[0;34m\u001b[0m\u001b[0m\n\u001b[0;32m--> 196\u001b[0;31m                 \u001b[0mouts\u001b[0m \u001b[0;34m=\u001b[0m \u001b[0mfit_function\u001b[0m\u001b[0;34m(\u001b[0m\u001b[0mins_batch\u001b[0m\u001b[0;34m)\u001b[0m\u001b[0;34m\u001b[0m\u001b[0;34m\u001b[0m\u001b[0m\n\u001b[0m\u001b[1;32m    197\u001b[0m                 \u001b[0mouts\u001b[0m \u001b[0;34m=\u001b[0m \u001b[0mto_list\u001b[0m\u001b[0;34m(\u001b[0m\u001b[0mouts\u001b[0m\u001b[0;34m)\u001b[0m\u001b[0;34m\u001b[0m\u001b[0;34m\u001b[0m\u001b[0m\n\u001b[1;32m    198\u001b[0m                 \u001b[0;32mfor\u001b[0m \u001b[0ml\u001b[0m\u001b[0;34m,\u001b[0m \u001b[0mo\u001b[0m \u001b[0;32min\u001b[0m \u001b[0mzip\u001b[0m\u001b[0;34m(\u001b[0m\u001b[0mout_labels\u001b[0m\u001b[0;34m,\u001b[0m \u001b[0mouts\u001b[0m\u001b[0;34m)\u001b[0m\u001b[0;34m:\u001b[0m\u001b[0;34m\u001b[0m\u001b[0;34m\u001b[0m\u001b[0m\n",
            "\u001b[0;32m/tensorflow-1.15.2/python3.6/tensorflow_core/python/keras/backend.py\u001b[0m in \u001b[0;36m__call__\u001b[0;34m(self, inputs)\u001b[0m\n\u001b[1;32m   3474\u001b[0m \u001b[0;34m\u001b[0m\u001b[0m\n\u001b[1;32m   3475\u001b[0m     fetched = self._callable_fn(*array_vals,\n\u001b[0;32m-> 3476\u001b[0;31m                                 run_metadata=self.run_metadata)\n\u001b[0m\u001b[1;32m   3477\u001b[0m     \u001b[0mself\u001b[0m\u001b[0;34m.\u001b[0m\u001b[0m_call_fetch_callbacks\u001b[0m\u001b[0;34m(\u001b[0m\u001b[0mfetched\u001b[0m\u001b[0;34m[\u001b[0m\u001b[0;34m-\u001b[0m\u001b[0mlen\u001b[0m\u001b[0;34m(\u001b[0m\u001b[0mself\u001b[0m\u001b[0;34m.\u001b[0m\u001b[0m_fetches\u001b[0m\u001b[0;34m)\u001b[0m\u001b[0;34m:\u001b[0m\u001b[0;34m]\u001b[0m\u001b[0;34m)\u001b[0m\u001b[0;34m\u001b[0m\u001b[0;34m\u001b[0m\u001b[0m\n\u001b[1;32m   3478\u001b[0m     output_structure = nest.pack_sequence_as(\n",
            "\u001b[0;32m/tensorflow-1.15.2/python3.6/tensorflow_core/python/client/session.py\u001b[0m in \u001b[0;36m__call__\u001b[0;34m(self, *args, **kwargs)\u001b[0m\n\u001b[1;32m   1470\u001b[0m         ret = tf_session.TF_SessionRunCallable(self._session._session,\n\u001b[1;32m   1471\u001b[0m                                                \u001b[0mself\u001b[0m\u001b[0;34m.\u001b[0m\u001b[0m_handle\u001b[0m\u001b[0;34m,\u001b[0m \u001b[0margs\u001b[0m\u001b[0;34m,\u001b[0m\u001b[0;34m\u001b[0m\u001b[0;34m\u001b[0m\u001b[0m\n\u001b[0;32m-> 1472\u001b[0;31m                                                run_metadata_ptr)\n\u001b[0m\u001b[1;32m   1473\u001b[0m         \u001b[0;32mif\u001b[0m \u001b[0mrun_metadata\u001b[0m\u001b[0;34m:\u001b[0m\u001b[0;34m\u001b[0m\u001b[0;34m\u001b[0m\u001b[0m\n\u001b[1;32m   1474\u001b[0m           \u001b[0mproto_data\u001b[0m \u001b[0;34m=\u001b[0m \u001b[0mtf_session\u001b[0m\u001b[0;34m.\u001b[0m\u001b[0mTF_GetBuffer\u001b[0m\u001b[0;34m(\u001b[0m\u001b[0mrun_metadata_ptr\u001b[0m\u001b[0;34m)\u001b[0m\u001b[0;34m\u001b[0m\u001b[0;34m\u001b[0m\u001b[0m\n",
            "\u001b[0;31mKeyboardInterrupt\u001b[0m: "
          ]
        }
      ]
    },
    {
      "cell_type": "code",
      "metadata": {
        "id": "dMuZnWzGRF_p",
        "colab_type": "code",
        "outputId": "d654bbdb-7d23-4f34-9f7e-d718b106bf65",
        "colab": {
          "base_uri": "https://localhost:8080/",
          "height": 142
        }
      },
      "source": [
        "df"
      ],
      "execution_count": 0,
      "outputs": [
        {
          "output_type": "execute_result",
          "data": {
            "text/html": [
              "<div>\n",
              "<style scoped>\n",
              "    .dataframe tbody tr th:only-of-type {\n",
              "        vertical-align: middle;\n",
              "    }\n",
              "\n",
              "    .dataframe tbody tr th {\n",
              "        vertical-align: top;\n",
              "    }\n",
              "\n",
              "    .dataframe thead th {\n",
              "        text-align: right;\n",
              "    }\n",
              "</style>\n",
              "<table border=\"1\" class=\"dataframe\">\n",
              "  <thead>\n",
              "    <tr style=\"text-align: right;\">\n",
              "      <th></th>\n",
              "      <th>SGD lr = 0.001</th>\n",
              "      <th>SGD lr = 0.0001</th>\n",
              "      <th>SGD lr = 1e-05</th>\n",
              "      <th>Adam lr = 0.001</th>\n",
              "      <th>Adam lr = 0.0001</th>\n",
              "      <th>Adam lr = 1e-05</th>\n",
              "      <th>Adamax lr = 0.001</th>\n",
              "      <th>Adamax lr = 0.0001</th>\n",
              "      <th>Adamax lr = 1e-05</th>\n",
              "    </tr>\n",
              "  </thead>\n",
              "  <tbody>\n",
              "    <tr>\n",
              "      <th>Time</th>\n",
              "      <td>0:11:46.317607</td>\n",
              "      <td>0:11:43.385677</td>\n",
              "      <td>0:11:43.223159</td>\n",
              "      <td>0:11:48.447457</td>\n",
              "      <td>0.0</td>\n",
              "      <td>0.0</td>\n",
              "      <td>0.0</td>\n",
              "      <td>0.0</td>\n",
              "      <td>0.0</td>\n",
              "    </tr>\n",
              "    <tr>\n",
              "      <th>Num of Paras</th>\n",
              "      <td>1941105</td>\n",
              "      <td>1941105</td>\n",
              "      <td>1941105</td>\n",
              "      <td>1941105</td>\n",
              "      <td>0.0</td>\n",
              "      <td>0.0</td>\n",
              "      <td>0.0</td>\n",
              "      <td>0.0</td>\n",
              "      <td>0.0</td>\n",
              "    </tr>\n",
              "    <tr>\n",
              "      <th>Accuracy</th>\n",
              "      <td>0.607996</td>\n",
              "      <td>0.496327</td>\n",
              "      <td>0.42322</td>\n",
              "      <td>0.780242</td>\n",
              "      <td>0.0</td>\n",
              "      <td>0.0</td>\n",
              "      <td>0.0</td>\n",
              "      <td>0.0</td>\n",
              "      <td>0.0</td>\n",
              "    </tr>\n",
              "  </tbody>\n",
              "</table>\n",
              "</div>"
            ],
            "text/plain": [
              "              SGD lr = 0.001  ... Adamax lr = 1e-05\n",
              "Time          0:11:46.317607  ...               0.0\n",
              "Num of Paras         1941105  ...               0.0\n",
              "Accuracy            0.607996  ...               0.0\n",
              "\n",
              "[3 rows x 9 columns]"
            ]
          },
          "metadata": {
            "tags": []
          },
          "execution_count": 12
        }
      ]
    },
    {
      "cell_type": "code",
      "metadata": {
        "id": "lN4fgywS5h3o",
        "colab_type": "code",
        "outputId": "7d09b2a5-aa6a-4f32-ed0d-c058d9e3582c",
        "colab": {
          "base_uri": "https://localhost:8080/",
          "height": 359
        }
      },
      "source": [
        "accuracy_df"
      ],
      "execution_count": 0,
      "outputs": [
        {
          "output_type": "execute_result",
          "data": {
            "text/html": [
              "<div>\n",
              "<style scoped>\n",
              "    .dataframe tbody tr th:only-of-type {\n",
              "        vertical-align: middle;\n",
              "    }\n",
              "\n",
              "    .dataframe tbody tr th {\n",
              "        vertical-align: top;\n",
              "    }\n",
              "\n",
              "    .dataframe thead th {\n",
              "        text-align: right;\n",
              "    }\n",
              "</style>\n",
              "<table border=\"1\" class=\"dataframe\">\n",
              "  <thead>\n",
              "    <tr style=\"text-align: right;\">\n",
              "      <th></th>\n",
              "      <th>SGD lr = 0.001</th>\n",
              "      <th>SGD lr = 0.0001</th>\n",
              "      <th>SGD lr = 1e-05</th>\n",
              "      <th>Adam lr = 0.001</th>\n",
              "      <th>Adam lr = 0.0001</th>\n",
              "      <th>Adam lr = 1e-05</th>\n",
              "      <th>Adamax lr = 0.001</th>\n",
              "      <th>Adamax lr = 0.0001</th>\n",
              "      <th>Adamax lr = 1e-05</th>\n",
              "    </tr>\n",
              "  </thead>\n",
              "  <tbody>\n",
              "    <tr>\n",
              "      <th>0</th>\n",
              "      <td>0.544291</td>\n",
              "      <td>0.461048</td>\n",
              "      <td>0.405909</td>\n",
              "      <td>0.643932</td>\n",
              "      <td>0.0</td>\n",
              "      <td>0.0</td>\n",
              "      <td>0.0</td>\n",
              "      <td>0.0</td>\n",
              "      <td>0.0</td>\n",
              "    </tr>\n",
              "    <tr>\n",
              "      <th>1</th>\n",
              "      <td>0.570355</td>\n",
              "      <td>0.465257</td>\n",
              "      <td>0.407611</td>\n",
              "      <td>0.683800</td>\n",
              "      <td>0.0</td>\n",
              "      <td>0.0</td>\n",
              "      <td>0.0</td>\n",
              "      <td>0.0</td>\n",
              "      <td>0.0</td>\n",
              "    </tr>\n",
              "    <tr>\n",
              "      <th>2</th>\n",
              "      <td>0.583205</td>\n",
              "      <td>0.469475</td>\n",
              "      <td>0.409546</td>\n",
              "      <td>0.719560</td>\n",
              "      <td>0.0</td>\n",
              "      <td>0.0</td>\n",
              "      <td>0.0</td>\n",
              "      <td>0.0</td>\n",
              "      <td>0.0</td>\n",
              "    </tr>\n",
              "    <tr>\n",
              "      <th>3</th>\n",
              "      <td>0.590287</td>\n",
              "      <td>0.473587</td>\n",
              "      <td>0.411897</td>\n",
              "      <td>0.718434</td>\n",
              "      <td>0.0</td>\n",
              "      <td>0.0</td>\n",
              "      <td>0.0</td>\n",
              "      <td>0.0</td>\n",
              "      <td>0.0</td>\n",
              "    </tr>\n",
              "    <tr>\n",
              "      <th>4</th>\n",
              "      <td>0.595621</td>\n",
              "      <td>0.477368</td>\n",
              "      <td>0.413614</td>\n",
              "      <td>0.721229</td>\n",
              "      <td>0.0</td>\n",
              "      <td>0.0</td>\n",
              "      <td>0.0</td>\n",
              "      <td>0.0</td>\n",
              "      <td>0.0</td>\n",
              "    </tr>\n",
              "    <tr>\n",
              "      <th>5</th>\n",
              "      <td>0.602091</td>\n",
              "      <td>0.481172</td>\n",
              "      <td>0.415355</td>\n",
              "      <td>0.747712</td>\n",
              "      <td>0.0</td>\n",
              "      <td>0.0</td>\n",
              "      <td>0.0</td>\n",
              "      <td>0.0</td>\n",
              "      <td>0.0</td>\n",
              "    </tr>\n",
              "    <tr>\n",
              "      <th>6</th>\n",
              "      <td>0.605200</td>\n",
              "      <td>0.485197</td>\n",
              "      <td>0.417634</td>\n",
              "      <td>0.747138</td>\n",
              "      <td>0.0</td>\n",
              "      <td>0.0</td>\n",
              "      <td>0.0</td>\n",
              "      <td>0.0</td>\n",
              "      <td>0.0</td>\n",
              "    </tr>\n",
              "    <tr>\n",
              "      <th>7</th>\n",
              "      <td>0.605521</td>\n",
              "      <td>0.489168</td>\n",
              "      <td>0.419411</td>\n",
              "      <td>0.759759</td>\n",
              "      <td>0.0</td>\n",
              "      <td>0.0</td>\n",
              "      <td>0.0</td>\n",
              "      <td>0.0</td>\n",
              "      <td>0.0</td>\n",
              "    </tr>\n",
              "    <tr>\n",
              "      <th>8</th>\n",
              "      <td>0.609886</td>\n",
              "      <td>0.492855</td>\n",
              "      <td>0.421537</td>\n",
              "      <td>0.775379</td>\n",
              "      <td>0.0</td>\n",
              "      <td>0.0</td>\n",
              "      <td>0.0</td>\n",
              "      <td>0.0</td>\n",
              "      <td>0.0</td>\n",
              "    </tr>\n",
              "    <tr>\n",
              "      <th>9</th>\n",
              "      <td>0.607996</td>\n",
              "      <td>0.496327</td>\n",
              "      <td>0.423220</td>\n",
              "      <td>0.780242</td>\n",
              "      <td>0.0</td>\n",
              "      <td>0.0</td>\n",
              "      <td>0.0</td>\n",
              "      <td>0.0</td>\n",
              "      <td>0.0</td>\n",
              "    </tr>\n",
              "  </tbody>\n",
              "</table>\n",
              "</div>"
            ],
            "text/plain": [
              "   SGD lr = 0.001  SGD lr = 0.0001  ...  Adamax lr = 0.0001  Adamax lr = 1e-05\n",
              "0        0.544291         0.461048  ...                 0.0                0.0\n",
              "1        0.570355         0.465257  ...                 0.0                0.0\n",
              "2        0.583205         0.469475  ...                 0.0                0.0\n",
              "3        0.590287         0.473587  ...                 0.0                0.0\n",
              "4        0.595621         0.477368  ...                 0.0                0.0\n",
              "5        0.602091         0.481172  ...                 0.0                0.0\n",
              "6        0.605200         0.485197  ...                 0.0                0.0\n",
              "7        0.605521         0.489168  ...                 0.0                0.0\n",
              "8        0.609886         0.492855  ...                 0.0                0.0\n",
              "9        0.607996         0.496327  ...                 0.0                0.0\n",
              "\n",
              "[10 rows x 9 columns]"
            ]
          },
          "metadata": {
            "tags": []
          },
          "execution_count": 13
        }
      ]
    },
    {
      "cell_type": "markdown",
      "metadata": {
        "id": "Y1HXz5Mcw1-T",
        "colab_type": "text"
      },
      "source": [
        "Change the struture of model"
      ]
    },
    {
      "cell_type": "markdown",
      "metadata": {
        "id": "qFd5-1GU1MB1",
        "colab_type": "text"
      },
      "source": [
        "# UNET v1\n"
      ]
    },
    {
      "cell_type": "markdown",
      "metadata": {
        "id": "Shc4bTCN1Rx2",
        "colab_type": "text"
      },
      "source": [
        "Now, we only do one convolution on each layer of the model"
      ]
    },
    {
      "cell_type": "code",
      "metadata": {
        "id": "uRyvGCPVw1I2",
        "colab_type": "code",
        "outputId": "284ab5e1-a2ec-454b-dd78-84eaa054b771",
        "colab": {
          "base_uri": "https://localhost:8080/",
          "height": 1000
        }
      },
      "source": [
        "# Build U-Net model\n",
        "def unet(learning_rate,optimizer):\n",
        "  inputs = Input((IMG_HEIGHT, IMG_WIDTH, IMG_CHANNELS))\n",
        "  s = Lambda(lambda x: x / (IMG_HEIGHT-1)) (inputs)\n",
        "\n",
        "  c1 = Conv2D(16, (3, 3), activation='elu', kernel_initializer='he_normal', padding='same') (s)\n",
        "  c1 = Dropout(0.1) (c1)\n",
        "  #c1 = Conv2D(16, (3, 3), activation='elu', kernel_initializer='he_normal', padding='same') (c1)\n",
        "  p1 = MaxPooling2D((2, 2)) (c1)\n",
        "\n",
        "  c2 = Conv2D(32, (3, 3), activation='elu', kernel_initializer='he_normal', padding='same') (p1)\n",
        "  c2 = Dropout(0.1) (c2)\n",
        "  #c2 = Conv2D(32, (3, 3), activation='elu', kernel_initializer='he_normal', padding='same') (c2)\n",
        "  p2 = MaxPooling2D((2, 2)) (c2)\n",
        "\n",
        "  c3 = Conv2D(64, (3, 3), activation='elu', kernel_initializer='he_normal', padding='same') (p2)\n",
        "  c3 = Dropout(0.2) (c3)\n",
        "  #c3 = Conv2D(64, (3, 3), activation='elu', kernel_initializer='he_normal', padding='same') (c3)\n",
        "  p3 = MaxPooling2D((2, 2)) (c3)\n",
        "\n",
        "  c4 = Conv2D(128, (3, 3), activation='elu', kernel_initializer='he_normal', padding='same') (p3)\n",
        "  c4 = Dropout(0.2) (c4)\n",
        "  #c4 = Conv2D(128, (3, 3), activation='elu', kernel_initializer='he_normal', padding='same') (c4)\n",
        "  p4 = MaxPooling2D(pool_size=(2, 2)) (c4)\n",
        "\n",
        "  c5 = Conv2D(256, (3, 3), activation='elu', kernel_initializer='he_normal', padding='same') (p4)\n",
        "  c5 = Dropout(0.3) (c5)\n",
        "  #c5 = Conv2D(256, (3, 3), activation='elu', kernel_initializer='he_normal', padding='same') (c5)\n",
        "  u6 = Conv2DTranspose(128, (2, 2), strides=(2, 2), padding='same') (c5)\n",
        "  u6 = concatenate([u6, c4])\n",
        "  c6 = Conv2D(128, (3, 3), activation='elu', kernel_initializer='he_normal', padding='same') (u6)\n",
        "  c6 = Dropout(0.2) (c6)\n",
        "  #c6 = Conv2D(128, (3, 3), activation='elu', kernel_initializer='he_normal', padding='same') (c6)\n",
        "\n",
        "  u7 = Conv2DTranspose(64, (2, 2), strides=(2, 2), padding='same') (c6)\n",
        "  u7 = concatenate([u7, c3])\n",
        "  c7 = Conv2D(64, (3, 3), activation='elu', kernel_initializer='he_normal', padding='same') (u7)\n",
        "  c7 = Dropout(0.2) (c7)\n",
        "  #c7 = Conv2D(64, (3, 3), activation='elu', kernel_initializer='he_normal', padding='same') (c7)\n",
        "\n",
        "  u8 = Conv2DTranspose(32, (2, 2), strides=(2, 2), padding='same') (c7)\n",
        "  u8 = concatenate([u8, c2])\n",
        "  c8 = Conv2D(32, (3, 3), activation='elu', kernel_initializer='he_normal', padding='same') (u8)\n",
        "  c8 = Dropout(0.1) (c8)\n",
        "  #c8 = Conv2D(32, (3, 3), activation='elu', kernel_initializer='he_normal', padding='same') (c8)\n",
        "\n",
        "  u9 = Conv2DTranspose(16, (2, 2), strides=(2, 2), padding='same') (c8)\n",
        "  u9 = concatenate([u9, c1], axis=3)\n",
        "  c9 = Conv2D(16, (3, 3), activation='elu', kernel_initializer='he_normal', padding='same') (u9)\n",
        "  c9 = Dropout(0.1) (c9)\n",
        "  #c9 = Conv2D(16, (3, 3), activation='elu', kernel_initializer='he_normal', padding='same') (c9)\n",
        "\n",
        "  outputs = Conv2D(1, (1, 1), activation='sigmoid') (c9)\n",
        "\n",
        "  model = Model(inputs=[inputs], outputs=[outputs])\n",
        "  optimizer = optimizer(lr=learning_rate)\n",
        "  model.compile(loss='binary_crossentropy', optimizer=optimizer, metrics=['accuracy'])\n",
        "  return model\n",
        "\n",
        "\n",
        "print(get_time())\n",
        "unet(0.001,SGD).summary()"
      ],
      "execution_count": 0,
      "outputs": [
        {
          "output_type": "stream",
          "text": [
            "2020-04-28 11:08 AM\n",
            "Model: \"model_2\"\n",
            "__________________________________________________________________________________________________\n",
            "Layer (type)                    Output Shape         Param #     Connected to                     \n",
            "==================================================================================================\n",
            "input_2 (InputLayer)            (None, 128, 128, 3)  0                                            \n",
            "__________________________________________________________________________________________________\n",
            "lambda_2 (Lambda)               (None, 128, 128, 3)  0           input_2[0][0]                    \n",
            "__________________________________________________________________________________________________\n",
            "conv2d_20 (Conv2D)              (None, 128, 128, 16) 448         lambda_2[0][0]                   \n",
            "__________________________________________________________________________________________________\n",
            "dropout_10 (Dropout)            (None, 128, 128, 16) 0           conv2d_20[0][0]                  \n",
            "__________________________________________________________________________________________________\n",
            "max_pooling2d_5 (MaxPooling2D)  (None, 64, 64, 16)   0           dropout_10[0][0]                 \n",
            "__________________________________________________________________________________________________\n",
            "conv2d_21 (Conv2D)              (None, 64, 64, 32)   4640        max_pooling2d_5[0][0]            \n",
            "__________________________________________________________________________________________________\n",
            "dropout_11 (Dropout)            (None, 64, 64, 32)   0           conv2d_21[0][0]                  \n",
            "__________________________________________________________________________________________________\n",
            "max_pooling2d_6 (MaxPooling2D)  (None, 32, 32, 32)   0           dropout_11[0][0]                 \n",
            "__________________________________________________________________________________________________\n",
            "conv2d_22 (Conv2D)              (None, 32, 32, 64)   18496       max_pooling2d_6[0][0]            \n",
            "__________________________________________________________________________________________________\n",
            "dropout_12 (Dropout)            (None, 32, 32, 64)   0           conv2d_22[0][0]                  \n",
            "__________________________________________________________________________________________________\n",
            "max_pooling2d_7 (MaxPooling2D)  (None, 16, 16, 64)   0           dropout_12[0][0]                 \n",
            "__________________________________________________________________________________________________\n",
            "conv2d_23 (Conv2D)              (None, 16, 16, 128)  73856       max_pooling2d_7[0][0]            \n",
            "__________________________________________________________________________________________________\n",
            "dropout_13 (Dropout)            (None, 16, 16, 128)  0           conv2d_23[0][0]                  \n",
            "__________________________________________________________________________________________________\n",
            "max_pooling2d_8 (MaxPooling2D)  (None, 8, 8, 128)    0           dropout_13[0][0]                 \n",
            "__________________________________________________________________________________________________\n",
            "conv2d_24 (Conv2D)              (None, 8, 8, 256)    295168      max_pooling2d_8[0][0]            \n",
            "__________________________________________________________________________________________________\n",
            "dropout_14 (Dropout)            (None, 8, 8, 256)    0           conv2d_24[0][0]                  \n",
            "__________________________________________________________________________________________________\n",
            "conv2d_transpose_5 (Conv2DTrans (None, 16, 16, 128)  131200      dropout_14[0][0]                 \n",
            "__________________________________________________________________________________________________\n",
            "concatenate_5 (Concatenate)     (None, 16, 16, 256)  0           conv2d_transpose_5[0][0]         \n",
            "                                                                 dropout_13[0][0]                 \n",
            "__________________________________________________________________________________________________\n",
            "conv2d_25 (Conv2D)              (None, 16, 16, 128)  295040      concatenate_5[0][0]              \n",
            "__________________________________________________________________________________________________\n",
            "dropout_15 (Dropout)            (None, 16, 16, 128)  0           conv2d_25[0][0]                  \n",
            "__________________________________________________________________________________________________\n",
            "conv2d_transpose_6 (Conv2DTrans (None, 32, 32, 64)   32832       dropout_15[0][0]                 \n",
            "__________________________________________________________________________________________________\n",
            "concatenate_6 (Concatenate)     (None, 32, 32, 128)  0           conv2d_transpose_6[0][0]         \n",
            "                                                                 dropout_12[0][0]                 \n",
            "__________________________________________________________________________________________________\n",
            "conv2d_26 (Conv2D)              (None, 32, 32, 64)   73792       concatenate_6[0][0]              \n",
            "__________________________________________________________________________________________________\n",
            "dropout_16 (Dropout)            (None, 32, 32, 64)   0           conv2d_26[0][0]                  \n",
            "__________________________________________________________________________________________________\n",
            "conv2d_transpose_7 (Conv2DTrans (None, 64, 64, 32)   8224        dropout_16[0][0]                 \n",
            "__________________________________________________________________________________________________\n",
            "concatenate_7 (Concatenate)     (None, 64, 64, 64)   0           conv2d_transpose_7[0][0]         \n",
            "                                                                 dropout_11[0][0]                 \n",
            "__________________________________________________________________________________________________\n",
            "conv2d_27 (Conv2D)              (None, 64, 64, 32)   18464       concatenate_7[0][0]              \n",
            "__________________________________________________________________________________________________\n",
            "dropout_17 (Dropout)            (None, 64, 64, 32)   0           conv2d_27[0][0]                  \n",
            "__________________________________________________________________________________________________\n",
            "conv2d_transpose_8 (Conv2DTrans (None, 128, 128, 16) 2064        dropout_17[0][0]                 \n",
            "__________________________________________________________________________________________________\n",
            "concatenate_8 (Concatenate)     (None, 128, 128, 32) 0           conv2d_transpose_8[0][0]         \n",
            "                                                                 dropout_10[0][0]                 \n",
            "__________________________________________________________________________________________________\n",
            "conv2d_28 (Conv2D)              (None, 128, 128, 16) 4624        concatenate_8[0][0]              \n",
            "__________________________________________________________________________________________________\n",
            "dropout_18 (Dropout)            (None, 128, 128, 16) 0           conv2d_28[0][0]                  \n",
            "__________________________________________________________________________________________________\n",
            "conv2d_29 (Conv2D)              (None, 128, 128, 1)  17          dropout_18[0][0]                 \n",
            "==================================================================================================\n",
            "Total params: 958,865\n",
            "Trainable params: 958,865\n",
            "Non-trainable params: 0\n",
            "__________________________________________________________________________________________________\n"
          ],
          "name": "stdout"
        }
      ]
    },
    {
      "cell_type": "code",
      "metadata": {
        "id": "JPMCaxYaxENf",
        "colab_type": "code",
        "outputId": "8a0f82bf-53fa-4599-c9f2-e71cec28c417",
        "colab": {
          "base_uri": "https://localhost:8080/",
          "height": 755
        }
      },
      "source": [
        "epochs = 10\n",
        "def fit_model(epochs, batch_size):\n",
        "  earlystopper = EarlyStopping(patience=5, verbose=1)\n",
        "  checkpointer = ModelCheckpoint('model-dsbowl2018-1.h5', verbose=1, save_best_only=True)\n",
        "  results = model.fit(X_train, Y_train, validation_split=0.1, batch_size=batch_size, epochs=epochs, \n",
        "                callbacks=[earlystopper, checkpointer])\n",
        "  return(results)\n",
        "start = datetime.now()\n",
        "  \n",
        "model = unet(1e-3,Adam)\n",
        "results = fit_model(epochs,50)\n",
        "\n",
        "\n",
        "\n",
        "end = datetime.now()\n",
        "time = end-start\n"
      ],
      "execution_count": 0,
      "outputs": [
        {
          "output_type": "stream",
          "text": [
            "Train on 387 samples, validate on 44 samples\n",
            "Epoch 1/10\n",
            "387/387 [==============================] - 43s 111ms/step - loss: 0.7210 - accuracy: 0.6169 - val_loss: 0.5970 - val_accuracy: 0.7302\n",
            "\n",
            "Epoch 00001: val_loss improved from inf to 0.59704, saving model to model-dsbowl2018-1.h5\n",
            "Epoch 2/10\n",
            "387/387 [==============================] - 42s 108ms/step - loss: 0.6434 - accuracy: 0.6693 - val_loss: 0.6008 - val_accuracy: 0.7301\n",
            "\n",
            "Epoch 00002: val_loss did not improve from 0.59704\n",
            "Epoch 3/10\n",
            "387/387 [==============================] - 42s 108ms/step - loss: 0.6303 - accuracy: 0.6704 - val_loss: 0.5592 - val_accuracy: 0.7373\n",
            "\n",
            "Epoch 00003: val_loss improved from 0.59704 to 0.55924, saving model to model-dsbowl2018-1.h5\n",
            "Epoch 4/10\n",
            "387/387 [==============================] - 42s 109ms/step - loss: 0.5865 - accuracy: 0.7082 - val_loss: 1.7674 - val_accuracy: 0.3111\n",
            "\n",
            "Epoch 00004: val_loss did not improve from 0.55924\n",
            "Epoch 5/10\n",
            "387/387 [==============================] - 42s 109ms/step - loss: 0.6374 - accuracy: 0.6883 - val_loss: 0.5734 - val_accuracy: 0.7389\n",
            "\n",
            "Epoch 00005: val_loss did not improve from 0.55924\n",
            "Epoch 6/10\n",
            "387/387 [==============================] - 42s 109ms/step - loss: 0.6071 - accuracy: 0.6815 - val_loss: 0.5438 - val_accuracy: 0.7406\n",
            "\n",
            "Epoch 00006: val_loss improved from 0.55924 to 0.54379, saving model to model-dsbowl2018-1.h5\n",
            "Epoch 7/10\n",
            "387/387 [==============================] - 42s 109ms/step - loss: 0.5833 - accuracy: 0.7047 - val_loss: 0.5592 - val_accuracy: 0.7331\n",
            "\n",
            "Epoch 00007: val_loss did not improve from 0.54379\n",
            "Epoch 8/10\n",
            "387/387 [==============================] - 42s 109ms/step - loss: 0.5443 - accuracy: 0.7323 - val_loss: 0.6556 - val_accuracy: 0.5660\n",
            "\n",
            "Epoch 00008: val_loss did not improve from 0.54379\n",
            "Epoch 9/10\n",
            "387/387 [==============================] - 42s 108ms/step - loss: 0.5237 - accuracy: 0.7465 - val_loss: 0.5892 - val_accuracy: 0.6322\n",
            "\n",
            "Epoch 00009: val_loss did not improve from 0.54379\n",
            "Epoch 10/10\n",
            "387/387 [==============================] - 42s 109ms/step - loss: 0.5189 - accuracy: 0.7479 - val_loss: 0.7267 - val_accuracy: 0.4519\n",
            "\n",
            "Epoch 00010: val_loss did not improve from 0.54379\n"
          ],
          "name": "stdout"
        }
      ]
    },
    {
      "cell_type": "code",
      "metadata": {
        "id": "AjpdUEGjdvyY",
        "colab_type": "code",
        "outputId": "d31cff96-2a67-4913-984d-b3d6f4c9d302",
        "colab": {
          "base_uri": "https://localhost:8080/",
          "height": 333
        }
      },
      "source": [
        "get_performance()"
      ],
      "execution_count": 0,
      "outputs": [
        {
          "output_type": "stream",
          "text": [
            "Time: 0:07:06.125186\n",
            "number of parameters: 958865\n",
            "Accuracy: 0.74793535\n"
          ],
          "name": "stdout"
        },
        {
          "output_type": "display_data",
          "data": {
            "image/png": "[encoded data removed]",
            "text/plain": [
              "<Figure size 432x288 with 1 Axes>"
            ]
          },
          "metadata": {
            "tags": [],
            "needs_background": "light"
          }
        }
      ]
    },
    {
      "cell_type": "markdown",
      "metadata": {
        "id": "0saxyi_8f1-A",
        "colab_type": "text"
      },
      "source": [
        "# UNET V2\n"
      ]
    },
    {
      "cell_type": "markdown",
      "metadata": {
        "id": "qpgeNXo1sF4b",
        "colab_type": "text"
      },
      "source": [
        "We use only on convolution at each layer, and add another layer at the bottom of the model, and use two times deconvolotion to recover the image size.\n"
      ]
    },
    {
      "cell_type": "code",
      "metadata": {
        "id": "ejn9zlfazGgj",
        "colab_type": "code",
        "outputId": "ea0c4f47-2f11-41fb-f191-d62a10850f04",
        "colab": {
          "base_uri": "https://localhost:8080/",
          "height": 35
        }
      },
      "source": [
        "from keras import optimizers\n",
        "# Build U-Net model\n",
        "def unet(learning_rate,optimizer):\n",
        "  inputs = Input((IMG_HEIGHT, IMG_WIDTH, IMG_CHANNELS))\n",
        "  s = Lambda(lambda x: x / (IMG_HEIGHT-1)) (inputs)\n",
        "\n",
        "  c1 = Conv2D(16, (3, 3), activation='elu', kernel_initializer='he_normal', padding='same') (s) #128 128 16\n",
        "  c1 = Dropout(0.1) (c1)\n",
        "  #c1 = Conv2D(16, (3, 3), activation='elu', kernel_initializer='he_normal', padding='same') (c1)\n",
        "  p1 = MaxPooling2D((2, 2)) (c1) # 64 64 32\n",
        "\n",
        "  c2 = Conv2D(32, (3, 3), activation='elu', kernel_initializer='he_normal', padding='same') (p1)\n",
        "  c2 = Dropout(0.1) (c2)\n",
        "  #c2 = Conv2D(32, (3, 3), activation='elu', kernel_initializer='he_normal', padding='same') (c2)\n",
        "  p2 = MaxPooling2D((2, 2)) (c2) # 32 32 64\n",
        "\n",
        "  c3 = Conv2D(64, (3, 3), activation='elu', kernel_initializer='he_normal', padding='same') (p2)\n",
        "  c3 = Dropout(0.2) (c3)\n",
        " # c3 = Conv2D(64, (3, 3), activation='elu', kernel_initializer='he_normal', padding='same') (c3)\n",
        "  p3 = MaxPooling2D((2, 2)) (c3) # 16 16 128\n",
        "\n",
        "  c4 = Conv2D(128, (3, 3), activation='elu', kernel_initializer='he_normal', padding='same') (p3)\n",
        "  c4 = Dropout(0.2) (c4)\n",
        "  #c4 = Conv2D(128, (3, 3), activation='elu', kernel_initializer='he_normal', padding='same') (c4)\n",
        "  p4 = MaxPooling2D(pool_size=(2, 2)) (c4) # 8 8 256\n",
        "\n",
        "  c5 = Conv2D(256, (3, 3), activation='elu', kernel_initializer='he_normal', padding='same') (p4)\n",
        "  c5 = Dropout(0.3) (c5)\n",
        "  #c5 = Conv2D(256, (3, 3), activation='elu', kernel_initializer='he_normal', padding='same') (c5) # 8 8 256\n",
        "  p_extra = MaxPooling2D(pool_size=(2, 2)) (c5) # 4 4 512\n",
        "\n",
        "  c_extra = Conv2D(256, (3, 3), activation='elu', kernel_initializer='he_normal', padding='same') (p_extra)\n",
        "  c_extra = Dropout(0.3) (c_extra)\n",
        "  #c_extra = Conv2D(256, (3, 3), activation='elu', kernel_initializer='he_normal', padding='same') (c_extra) # 4 4 256\n",
        "  \n",
        "  \n",
        "  u_extra = Conv2DTranspose(128, (2, 2), strides=(2, 2), padding='same') (c_extra) # 8 8 256\n",
        "  \n",
        "  u6 = Conv2DTranspose(128, (2, 2), strides=(2, 2), padding='same') (u_extra) # 16 16 256\n",
        "  u6 = concatenate([u6, c4])\n",
        "  c6 = Conv2D(128, (3, 3), activation='elu', kernel_initializer='he_normal', padding='same') (u6)\n",
        "  c6 = Dropout(0.2) (c6)\n",
        " # c6 = Conv2D(128, (3, 3), activation='elu', kernel_initializer='he_normal', padding='same') (c6)\n",
        "\n",
        "  u7 = Conv2DTranspose(64, (2, 2), strides=(2, 2), padding='same') (c6)\n",
        "  u7 = concatenate([u7, c3])\n",
        "  c7 = Conv2D(64, (3, 3), activation='elu', kernel_initializer='he_normal', padding='same') (u7)\n",
        "  c7 = Dropout(0.2) (c7)\n",
        " # c7 = Conv2D(64, (3, 3), activation='elu', kernel_initializer='he_normal', padding='same') (c7)\n",
        "\n",
        "  u8 = Conv2DTranspose(32, (2, 2), strides=(2, 2), padding='same') (c7)\n",
        "  u8 = concatenate([u8, c2])\n",
        "  c8 = Conv2D(32, (3, 3), activation='elu', kernel_initializer='he_normal', padding='same') (u8)\n",
        "  c8 = Dropout(0.1) (c8)\n",
        "  #c8 = Conv2D(32, (3, 3), activation='elu', kernel_initializer='he_normal', padding='same') (c8)\n",
        "\n",
        "  u9 = Conv2DTranspose(16, (2, 2), strides=(2, 2), padding='same') (c8)\n",
        " # u9 = concatenate([u9, c1], axis=3)\n",
        "  c9 = Conv2D(16, (3, 3), activation='elu', kernel_initializer='he_normal', padding='same') (u9)\n",
        "  c9 = Dropout(0.1) (c9)\n",
        "  c9 = Conv2D(16, (3, 3), activation='elu', kernel_initializer='he_normal', padding='same') (c9)\n",
        "\n",
        "  outputs = Conv2D(1, (1, 1), activation='sigmoid') (c9)\n",
        "\n",
        "  model = Model(inputs=[inputs], outputs=[outputs])\n",
        "  optimizerss = optimizer(lr=learning_rate)\n",
        "  model.compile(loss='binary_crossentropy', optimizer=optimizerss, metrics=['accuracy'])\n",
        "  return model\n",
        "\n",
        "\n",
        "\n",
        "print(get_time())\n"
      ],
      "execution_count": 0,
      "outputs": [
        {
          "output_type": "stream",
          "text": [
            "2020-04-28 11:16 AM\n"
          ],
          "name": "stdout"
        }
      ]
    },
    {
      "cell_type": "code",
      "metadata": {
        "id": "EWmr5W0QjDrR",
        "colab_type": "code",
        "outputId": "cdf34b36-68a5-46dd-ca49-3522613078a0",
        "colab": {
          "base_uri": "https://localhost:8080/",
          "height": 557
        }
      },
      "source": [
        "epochs = 10\n",
        "def fit_model(epochs, batch_size):\n",
        "  earlystopper = EarlyStopping(patience=5, verbose=1)\n",
        "  checkpointer = ModelCheckpoint('model-dsbowl2018-1.h5', verbose=1, save_best_only=True)\n",
        "  results = model.fit(X_train, Y_train, validation_split=0.1, batch_size=batch_size, epochs=epochs, \n",
        "                callbacks=[earlystopper, checkpointer])\n",
        "  return(results)\n",
        "start = datetime.now()\n",
        "  \n",
        "model = unet(1e-3,Adam)\n",
        "results = fit_model(epochs,50)\n",
        "\n",
        "\n",
        "\n",
        "end = datetime.now()\n",
        "time = end-start\n"
      ],
      "execution_count": 0,
      "outputs": [
        {
          "output_type": "stream",
          "text": [
            "Train on 387 samples, validate on 44 samples\n",
            "Epoch 1/10\n",
            "387/387 [==============================] - 45s 115ms/step - loss: 0.6907 - accuracy: 0.6262 - val_loss: 0.5840 - val_accuracy: 0.7322\n",
            "\n",
            "Epoch 00001: val_loss improved from inf to 0.58398, saving model to model-dsbowl2018-1.h5\n",
            "Epoch 2/10\n",
            "387/387 [==============================] - 43s 112ms/step - loss: 0.6011 - accuracy: 0.6935 - val_loss: 0.5774 - val_accuracy: 0.7020\n",
            "\n",
            "Epoch 00002: val_loss improved from 0.58398 to 0.57744, saving model to model-dsbowl2018-1.h5\n",
            "Epoch 3/10\n",
            "387/387 [==============================] - 43s 112ms/step - loss: 0.5364 - accuracy: 0.7410 - val_loss: 0.6902 - val_accuracy: 0.5856\n",
            "\n",
            "Epoch 00003: val_loss did not improve from 0.57744\n",
            "Epoch 4/10\n",
            "387/387 [==============================] - 43s 112ms/step - loss: 0.5329 - accuracy: 0.7426 - val_loss: 0.5835 - val_accuracy: 0.6762\n",
            "\n",
            "Epoch 00004: val_loss did not improve from 0.57744\n",
            "Epoch 5/10\n",
            "387/387 [==============================] - 43s 112ms/step - loss: 0.5243 - accuracy: 0.7473 - val_loss: 0.8523 - val_accuracy: 0.5312\n",
            "\n",
            "Epoch 00005: val_loss did not improve from 0.57744\n",
            "Epoch 6/10\n",
            "387/387 [==============================] - 43s 112ms/step - loss: 0.4938 - accuracy: 0.7696 - val_loss: 0.8772 - val_accuracy: 0.4899\n",
            "\n",
            "Epoch 00006: val_loss did not improve from 0.57744\n",
            "Epoch 7/10\n",
            "387/387 [==============================] - 43s 111ms/step - loss: 0.4939 - accuracy: 0.7599 - val_loss: 0.8749 - val_accuracy: 0.4749\n",
            "\n",
            "Epoch 00007: val_loss did not improve from 0.57744\n",
            "Epoch 00007: early stopping\n"
          ],
          "name": "stdout"
        }
      ]
    },
    {
      "cell_type": "code",
      "metadata": {
        "id": "9quv3Wubfkfi",
        "colab_type": "code",
        "outputId": "0a282f0e-af4b-4a57-cfe2-203b12038c6a",
        "colab": {
          "base_uri": "https://localhost:8080/",
          "height": 333
        }
      },
      "source": [
        "get_performance()"
      ],
      "execution_count": 0,
      "outputs": [
        {
          "output_type": "stream",
          "text": [
            "Time: 0:05:11.643664\n",
            "number of parameters: 1614625\n",
            "Accuracy: 0.7598784\n"
          ],
          "name": "stdout"
        },
        {
          "output_type": "display_data",
          "data": {
            "image/png": "[encoded data removed]",
            "text/plain": [
              "<Figure size 432x288 with 1 Axes>"
            ]
          },
          "metadata": {
            "tags": [],
            "needs_background": "light"
          }
        }
      ]
    },
    {
      "cell_type": "markdown",
      "metadata": {
        "id": "bGPEwTd1s71i",
        "colab_type": "text"
      },
      "source": [
        "# UNET V3\n"
      ]
    },
    {
      "cell_type": "markdown",
      "metadata": {
        "id": "WOxokF5rtCEB",
        "colab_type": "text"
      },
      "source": [
        "We use one convolution only at the input image tile and output segmentation layer"
      ]
    },
    {
      "cell_type": "code",
      "metadata": {
        "id": "tXzSImavtBVu",
        "colab_type": "code",
        "outputId": "f9b08b06-edb6-4365-9cd9-5b0e8fc205af",
        "colab": {
          "base_uri": "https://localhost:8080/",
          "height": 35
        }
      },
      "source": [
        "from keras import optimizers\n",
        "# Build U-Net model\n",
        "def unet(learning_rate,optimizer):\n",
        "  inputs = Input((IMG_HEIGHT, IMG_WIDTH, IMG_CHANNELS))\n",
        "  s = Lambda(lambda x: x / (IMG_HEIGHT-1)) (inputs)\n",
        "\n",
        "  c1 = Conv2D(16, (3, 3), activation='elu', kernel_initializer='he_normal', padding='same') (s)\n",
        "  c1 = Dropout(0.1) (c1)\n",
        "  #c1 = Conv2D(16, (3, 3), activation='elu', kernel_initializer='he_normal', padding='same') (c1)\n",
        "  p1 = MaxPooling2D((2, 2)) (c1)\n",
        "\n",
        "  c2 = Conv2D(32, (3, 3), activation='elu', kernel_initializer='he_normal', padding='same') (p1)\n",
        "  c2 = Dropout(0.1) (c2)\n",
        "  c2 = Conv2D(32, (3, 3), activation='elu', kernel_initializer='he_normal', padding='same') (c2)\n",
        "  p2 = MaxPooling2D((2, 2)) (c2)\n",
        "\n",
        "  c3 = Conv2D(64, (3, 3), activation='elu', kernel_initializer='he_normal', padding='same') (p2)\n",
        "  c3 = Dropout(0.2) (c3)\n",
        "  c3 = Conv2D(64, (3, 3), activation='elu', kernel_initializer='he_normal', padding='same') (c3)\n",
        "  p3 = MaxPooling2D((2, 2)) (c3)\n",
        "\n",
        "  c4 = Conv2D(128, (3, 3), activation='elu', kernel_initializer='he_normal', padding='same') (p3)\n",
        "  c4 = Dropout(0.2) (c4)\n",
        "  c4 = Conv2D(128, (3, 3), activation='elu', kernel_initializer='he_normal', padding='same') (c4)\n",
        "  p4 = MaxPooling2D(pool_size=(2, 2)) (c4)\n",
        "\n",
        "  c5 = Conv2D(256, (3, 3), activation='elu', kernel_initializer='he_normal', padding='same') (p4)\n",
        "  c5 = Dropout(0.3) (c5)\n",
        "  c5 = Conv2D(256, (3, 3), activation='elu', kernel_initializer='he_normal', padding='same') (c5)\n",
        "\n",
        "  u6 = Conv2DTranspose(128, (2, 2), strides=(2, 2), padding='same') (c5)\n",
        "  u6 = concatenate([u6, c4])\n",
        "  c6 = Conv2D(128, (3, 3), activation='elu', kernel_initializer='he_normal', padding='same') (u6)\n",
        "  c6 = Dropout(0.2) (c6)\n",
        "  c6 = Conv2D(128, (3, 3), activation='elu', kernel_initializer='he_normal', padding='same') (c6)\n",
        "\n",
        "  u7 = Conv2DTranspose(64, (2, 2), strides=(2, 2), padding='same') (c6)\n",
        "  u7 = concatenate([u7, c3])\n",
        "  c7 = Conv2D(64, (3, 3), activation='elu', kernel_initializer='he_normal', padding='same') (u7)\n",
        "  c7 = Dropout(0.2) (c7)\n",
        "  c7 = Conv2D(64, (3, 3), activation='elu', kernel_initializer='he_normal', padding='same') (c7)\n",
        "\n",
        "  u8 = Conv2DTranspose(32, (2, 2), strides=(2, 2), padding='same') (c7)\n",
        "  u8 = concatenate([u8, c2])\n",
        "  c8 = Conv2D(32, (3, 3), activation='elu', kernel_initializer='he_normal', padding='same') (u8)\n",
        "  c8 = Dropout(0.1) (c8)\n",
        "  c8 = Conv2D(32, (3, 3), activation='elu', kernel_initializer='he_normal', padding='same') (c8)\n",
        "\n",
        "  u9 = Conv2DTranspose(16, (2, 2), strides=(2, 2), padding='same') (c8)\n",
        "  u9 = concatenate([u9, c1], axis=3)\n",
        "  c9 = Conv2D(16, (3, 3), activation='elu', kernel_initializer='he_normal', padding='same') (u9)\n",
        "  c9 = Dropout(0.1) (c9)\n",
        "  #c9 = Conv2D(16, (3, 3), activation='elu', kernel_initializer='he_normal', padding='same') (c9)\n",
        "\n",
        "  outputs = Conv2D(1, (1, 1), activation='sigmoid') (c9)\n",
        "\n",
        "  model = Model(inputs=[inputs], outputs=[outputs])\n",
        "  optimizerss = optimizer(lr=learning_rate)\n",
        "  model.compile(loss='binary_crossentropy', optimizer=optimizerss, metrics=['accuracy'])\n",
        "  return model\n",
        "\n",
        "\n",
        "\n",
        "print(get_time())\n"
      ],
      "execution_count": 0,
      "outputs": [
        {
          "output_type": "stream",
          "text": [
            "2020-04-28 11:21 AM\n"
          ],
          "name": "stdout"
        }
      ]
    },
    {
      "cell_type": "code",
      "metadata": {
        "id": "L32td7cwws4i",
        "colab_type": "code",
        "outputId": "4179b4e1-4e67-49e9-e961-b8e49c0cff8f",
        "colab": {
          "base_uri": "https://localhost:8080/",
          "height": 701
        }
      },
      "source": [
        "epochs = 10\n",
        "def fit_model(epochs, batch_size):\n",
        "  earlystopper = EarlyStopping(patience=5, verbose=1)\n",
        "  checkpointer = ModelCheckpoint('model-dsbowl2018-1.h5', verbose=1, save_best_only=True)\n",
        "  results = model.fit(X_train, Y_train, validation_split=0.1, batch_size=batch_size, epochs=epochs, \n",
        "                callbacks=[earlystopper, checkpointer])\n",
        "  return(results)\n",
        "start = datetime.now()\n",
        "  \n",
        "model = unet(1e-3,Adam)\n",
        "results = fit_model(epochs,50)\n",
        "\n",
        "\n",
        "\n",
        "end = datetime.now()\n",
        "time = end-start\n"
      ],
      "execution_count": 0,
      "outputs": [
        {
          "output_type": "stream",
          "text": [
            "Train on 387 samples, validate on 44 samples\n",
            "Epoch 1/10\n",
            "387/387 [==============================] - 60s 155ms/step - loss: 0.6924 - accuracy: 0.6270 - val_loss: 0.6049 - val_accuracy: 0.7209\n",
            "\n",
            "Epoch 00001: val_loss improved from inf to 0.60492, saving model to model-dsbowl2018-1.h5\n",
            "Epoch 2/10\n",
            "387/387 [==============================] - 58s 151ms/step - loss: 0.6224 - accuracy: 0.6768 - val_loss: 0.7461 - val_accuracy: 0.4361\n",
            "\n",
            "Epoch 00002: val_loss did not improve from 0.60492\n",
            "Epoch 3/10\n",
            "387/387 [==============================] - 58s 151ms/step - loss: 0.6156 - accuracy: 0.6702 - val_loss: 0.5592 - val_accuracy: 0.7483\n",
            "\n",
            "Epoch 00003: val_loss improved from 0.60492 to 0.55921, saving model to model-dsbowl2018-1.h5\n",
            "Epoch 4/10\n",
            "387/387 [==============================] - 58s 151ms/step - loss: 0.5974 - accuracy: 0.6933 - val_loss: 0.5274 - val_accuracy: 0.7567\n",
            "\n",
            "Epoch 00004: val_loss improved from 0.55921 to 0.52736, saving model to model-dsbowl2018-1.h5\n",
            "Epoch 5/10\n",
            "387/387 [==============================] - 58s 151ms/step - loss: 0.5590 - accuracy: 0.7216 - val_loss: 0.5894 - val_accuracy: 0.6769\n",
            "\n",
            "Epoch 00005: val_loss did not improve from 0.52736\n",
            "Epoch 6/10\n",
            "387/387 [==============================] - 58s 151ms/step - loss: 0.5453 - accuracy: 0.7298 - val_loss: 0.6714 - val_accuracy: 0.5566\n",
            "\n",
            "Epoch 00006: val_loss did not improve from 0.52736\n",
            "Epoch 7/10\n",
            "387/387 [==============================] - 58s 151ms/step - loss: 0.5250 - accuracy: 0.7422 - val_loss: 0.5711 - val_accuracy: 0.6710\n",
            "\n",
            "Epoch 00007: val_loss did not improve from 0.52736\n",
            "Epoch 8/10\n",
            "387/387 [==============================] - 58s 151ms/step - loss: 0.5210 - accuracy: 0.7453 - val_loss: 0.5764 - val_accuracy: 0.7002\n",
            "\n",
            "Epoch 00008: val_loss did not improve from 0.52736\n",
            "Epoch 9/10\n",
            "387/387 [==============================] - 58s 151ms/step - loss: 0.5295 - accuracy: 0.7484 - val_loss: 0.5306 - val_accuracy: 0.7421\n",
            "\n",
            "Epoch 00009: val_loss did not improve from 0.52736\n",
            "Epoch 00009: early stopping\n"
          ],
          "name": "stdout"
        }
      ]
    },
    {
      "cell_type": "code",
      "metadata": {
        "id": "mRavJX8UwtlN",
        "colab_type": "code",
        "outputId": "d5843c3d-ae27-4c30-a72a-a4ef0d8171f1",
        "colab": {
          "base_uri": "https://localhost:8080/",
          "height": 333
        }
      },
      "source": [
        "get_performance()"
      ],
      "execution_count": 0,
      "outputs": [
        {
          "output_type": "stream",
          "text": [
            "Time: 0:08:57.167418\n",
            "number of parameters: 1936465\n",
            "Accuracy: 0.7484079\n"
          ],
          "name": "stdout"
        },
        {
          "output_type": "display_data",
          "data": {
            "image/png": "[encoded data removed]",
            "text/plain": [
              "<Figure size 432x288 with 1 Axes>"
            ]
          },
          "metadata": {
            "tags": [],
            "needs_background": "light"
          }
        }
      ]
    }
  ]
}